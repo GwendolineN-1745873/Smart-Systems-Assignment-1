{
 "cells": [
  {
   "cell_type": "markdown",
   "metadata": {},
   "source": [
    "# Assignment 1\n",
    "\n",
    "**Authors:** Bryan Honof, Jeffrey Gorissen<br>\n",
    "**Start Date:** 19/10/2018\n",
    "    \n",
    "**Objective:** Visualize and predict the future temperatures via ARIMA"
   ]
  },
  {
   "cell_type": "markdown",
   "metadata": {},
   "source": [
    "## Table of contents\n",
    "\n",
    "1. [Import Libraries](#Import-Libraries)\n",
    "2. [Get Data](#Get-Data)\n"
   ]
  },
  {
   "cell_type": "markdown",
   "metadata": {},
   "source": [
    "## 1. Import Libraries <a name=\"Import-Libraries\"></a>"
   ]
  },
  {
   "cell_type": "code",
   "execution_count": null,
   "metadata": {},
   "outputs": [],
   "source": [
    "import warnings\n",
    "import itertools\n",
    "import subprocess\n",
    "import psycopg2\n",
    "\n",
    "import pandas            as pd\n",
    "import numpy             as np\n",
    "import statsmodels.api   as sm\n",
    "import matplotlib.pyplot as plt\n",
    "\n",
    "from sqlalchemy import create_engine\n",
    "from datetime   import datetime\n",
    "\n",
    "%matplotlib inline\n",
    "plt.style.use('ggplot')"
   ]
  },
  {
   "cell_type": "markdown",
   "metadata": {},
   "source": [
    "## 2. Get Data <a name=\"Get-Data\"></a>\n",
    "\n",
    "We have 2 options here toggled by the 'in_school' variable.\n",
    "If this variable is set to True we will obtain our data by pulling a JSON object from the heroku webserver.\n",
    "If it is set to False we will obtain it by first connecting to the Heroku PostgreSQL database and applying a simple SQL querry to that database."
   ]
  },
  {
   "cell_type": "code",
   "execution_count": null,
   "metadata": {},
   "outputs": [],
   "source": [
    "in_school = True\n",
    "\n",
    "if (True == in_school):\n",
    "    # Get the data from the web route because school blocks the port used by the database :)\n",
    "    \n",
    "    url = 'https://pxl-ss.herokuapp.com/api/temps'\n",
    "    data = pd.read_json(url, orient='columns')\n",
    "else:\n",
    "    # Get the data directly from the database\n",
    "    \n",
    "    HEROKU_APP_NAME = \"pxl-ss\"\n",
    "    TABLE_NAME = \"Temperature\"\n",
    "\n",
    "    conn_info = subprocess.run([\"heroku\", \"config:get\", \"DATABASE_URL\", \"-a\", HEROKU_APP_NAME], stdout = subprocess.PIPE)\n",
    "    connuri = conn_info.stdout.decode('utf-8').strip()\n",
    "\n",
    "    engine = create_engine(connuri)\n",
    "    raw_engine = engine.raw_connection()\n",
    "\n",
    "    data = pd.read_sql_query(\"SELECT * FROM Temperature;\", raw_engine)\n",
    "    \n",
    "print(data.head())"
   ]
  },
  {
   "cell_type": "markdown",
   "metadata": {},
   "source": [
    "## Restructure the data to form a time series\n",
    "\n",
    "The data we got from our source is has multiple tables we don't care about, we really only care about the 'creation_date' & 'value' column.<br>\n",
    "We create a new pandas dataframe with only those 2 columns and rename them to a more human readable names: 'dateTime' & 'temperature'.\n",
    "\n",
    "Afther renaming the columns we will have to convert them to the right data type. datetime for the 'dateTime' column and float for the 'temperature' column.\n",
    "\n",
    "Since we are aiming to work with a time series we have to set the 'dateTime' column as the index."
   ]
  },
  {
   "cell_type": "code",
   "execution_count": null,
   "metadata": {
    "scrolled": false
   },
   "outputs": [],
   "source": [
    "# Filter out all the columsn except for 'creation_date' & 'value'\n",
    "# Rename those columns to 'dateTime' & temperature\n",
    "df = pd.DataFrame(data, columns = ['creation_date', 'value'])\n",
    "df.columns = ['dateTime', 'temperature']\n",
    "\n",
    "# Inspect data\n",
    "print(df.info())\n",
    "\n",
    "# Convert the creation_date column to datetime64\n",
    "df['dateTime'] = pd.to_datetime(df['dateTime'])\n",
    "# Convert the value column to float\n",
    "df['temperature'] = pd.to_numeric(df['temperature'])\n",
    "\n",
    "# Set the dateTime column as index\n",
    "df.set_index('dateTime', inplace=True)\n",
    "\n",
    "# Inspect data\n",
    "print(df.info())\n",
    "\n",
    "# Plot data\n",
    "df.plot(figsize=(15, 6), label='Temperature')\n",
    "plt.ylabel(\"Temperature in °C\")\n",
    "plt.xlabel(\"Time\")\n",
    "plt.show()"
   ]
  },
  {
   "cell_type": "code",
   "execution_count": null,
   "metadata": {},
   "outputs": [],
   "source": [
    "my_df = df['temperature'].resample('60T').mean()\n",
    "my_df = my_df.fillna(my_df.bfill())\n",
    "\n",
    "my_df.plot(figsize=(15, 6), label='temperature')\n",
    "plt.ylabel(\"Temperature in °C\")\n",
    "plt.xlabel(\"time\")\n",
    "plt.show()"
   ]
  },
  {
   "cell_type": "code",
   "execution_count": null,
   "metadata": {},
   "outputs": [],
   "source": []
  }
 ],
 "metadata": {
  "kernelspec": {
   "display_name": "Python 3",
   "language": "python",
   "name": "python3"
  },
  "language_info": {
   "codemirror_mode": {
    "name": "ipython",
    "version": 3
   },
   "file_extension": ".py",
   "mimetype": "text/x-python",
   "name": "python",
   "nbconvert_exporter": "python",
   "pygments_lexer": "ipython3",
   "version": "3.6.6"
  }
 },
 "nbformat": 4,
 "nbformat_minor": 2
}
